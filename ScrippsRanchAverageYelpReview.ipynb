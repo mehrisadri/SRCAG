{
 "cells": [
  {
   "cell_type": "code",
   "execution_count": 15,
   "id": "41e31321-5335-44a8-92b0-6096424b25bc",
   "metadata": {
    "tags": []
   },
   "outputs": [
    {
     "ename": "IndentationError",
     "evalue": "unindent does not match any outer indentation level (<tokenize>, line 19)",
     "output_type": "error",
     "traceback": [
      "\u001b[0;36m  File \u001b[0;32m<tokenize>:19\u001b[0;36m\u001b[0m\n\u001b[0;31m    except FileNotFoundError:\u001b[0m\n\u001b[0m    ^\u001b[0m\n\u001b[0;31mIndentationError\u001b[0m\u001b[0;31m:\u001b[0m unindent does not match any outer indentation level\n"
     ]
    }
   ],
   "source": [
    "import csv\n",
    "\n",
    "def calculate_average(csv_file, column_name):\n",
    "    try:\n",
    "        with open(csv_file, 'r') as csvfile:\n",
    "            reader = csv.DictReader(csvfile)\n",
    "            \n",
    "            # Check if the specified column exists in the CSV file\n",
    "            if column_name not in reader.fieldnames:\n",
    "                raise ValueError(f\"Column '{column_name}' not found in the CSV file.\")\n",
    "            \n",
    "            values = [float(row[column_name]) for row in reader]\n",
    "            \n",
    "            # Calculate the average value\n",
    "            average_value = sum(values) / len(values) if len(values) > 0 else 0\n",
    "            \n",
    "            return average_value\n",
    "        \n",
    " except FileNotFoundError:\n",
    "        print(f\"Error: File '{csv_file}' not found.\")\n",
    "    except Exception as e:\n",
    "        print(f\"An error occurred: {e}\")\n",
    "  \n",
    "if __name__ == \"__main__\":\n",
    "    # Specify the CSV file name\n",
    "    csv_file = 'SRYR - Yelp.csv'\n",
    "\n",
    "    # Specify the column for which you want to calculate the average\n",
    "    column_name = 'Review'\n",
    "\n",
    "    # Calculate and print the average value\n",
    "    average_value = calculate_average(csv_file,column_name)\n",
    "    \n",
    "    if average_value is not None:\n",
    "        print(f\"The average Yelp Review of Scripps Ranch microbusinesses is: {average_value:.2f}\")\n",
    "\n"
   ]
  },
  {
   "cell_type": "code",
   "execution_count": null,
   "id": "d2c07983-eeea-4a31-bfb5-e3b845edf2b5",
   "metadata": {},
   "outputs": [],
   "source": []
  }
 ],
 "metadata": {
  "kernelspec": {
   "display_name": "Python 3 (ipykernel)",
   "language": "python",
   "name": "python3"
  },
  "language_info": {
   "codemirror_mode": {
    "name": "ipython",
    "version": 3
   },
   "file_extension": ".py",
   "mimetype": "text/x-python",
   "name": "python",
   "nbconvert_exporter": "python",
   "pygments_lexer": "ipython3",
   "version": "3.11.5"
  }
 },
 "nbformat": 4,
 "nbformat_minor": 5
}
