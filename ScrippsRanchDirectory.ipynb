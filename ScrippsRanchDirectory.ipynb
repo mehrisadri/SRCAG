{
 "cells": [
  {
   "cell_type": "code",
   "execution_count": 20,
   "id": "2b70ad62-dd8b-4de2-afb1-b2bae71fbb6f",
   "metadata": {
    "tags": []
   },
   "outputs": [
    {
     "name": "stdout",
     "output_type": "stream",
     "text": [
      "                     Name of Establishment   \\\n",
      "0                      Wild Birds Unlimited   \n",
      "1                      Gilmore Orthodontics   \n",
      "2                      Pinnacle Endodontics   \n",
      "3                Scripps Poway Orthodontics   \n",
      "4   Saint Gregory the Great Catholic Church   \n",
      "..                                      ...   \n",
      "54                                Supercuts   \n",
      "55                            Rumble Boxing   \n",
      "56                          Grace Threading   \n",
      "57                 Sees Candy Scripps Ranch   \n",
      "58                 Sees Candy Scripps Ranch   \n",
      "\n",
      "                       Street Address  Zip Code           FUNCTION  \n",
      "0      10549 Scripps Poway Pkwy. #B-3     92131           Services  \n",
      "1                   9870 Hibert St d9     92131           Services  \n",
      "2          10672 Wexford St Suite 265     92131           Services  \n",
      "3   12112 Scripps Summit Dr., Suite F     92131           Services  \n",
      "4            11451 Blue Cypress Drive     92131           Services  \n",
      "..                                ...       ...                ...  \n",
      "54                  9870 Hibert St D7     92131           Services  \n",
      "55                  9872 Hibert St d4     92131           Services  \n",
      "56             9872 Hibert St Ste D2,     92131           Services  \n",
      "57          9870 Hibert St, San Diego     92131  Goods & Materials  \n",
      "58          9870 Hibert St, San Diego     92131                NaN  \n",
      "\n",
      "[59 rows x 4 columns]\n",
      "Supply-related small businesses in Scripps Ranch make up the following percent of our Directory: 25.217391304347824\n",
      "Grocery-related small businesses in Scripps Ranch make up the following percent of our Directory: 0.8695652173913043\n",
      "Services-related small businesses in Scripps Ranch make up the following percent of our Directory: 25.217391304347824\n",
      "Eatery small businesses in Scripps Ranch make up the following percent of our Directory: 20.869565217391305\n"
     ]
    }
   ],
   "source": [
    "import pandas as pd\n",
    "pd.options.display.max_rows = 10\n",
    "scrippsranchdataframe = pd.read_csv('/Users/mehrisadri/Directory/Scripps.csv')\n",
    "print(scrippsranchdataframe)                                  \n",
    "Eats = scrippsranchdataframe[scrippsranchdataframe.get('FUNCTION') == 'Eatery'].shape[0] #Counts the amount of rows labeled as an Eatery\n",
    "Services = scrippsranchdataframe[scrippsranchdataframe.get('FUNCTION') == 'Services'].shape[0]\n",
    "Grocery = scrippsranchdataframe[scrippsranchdataframe.get('FUNCTION') == 'Grocery'].shape[0]\n",
    "Supplies = scrippsranchdataframe[scrippsranchdataframe.get('FUNCTION') == 'Services'].shape[0]\n",
    "Percent1 = Supplies/leng * 100\n",
    "Percent2 = Grocery/leng * 100\n",
    "Percent3 = Services/leng * 100\n",
    "Percent4 = Eats/leng * 100\n",
    "print(\"Supply-related small businesses in Scripps Ranch make up the following percent of our Directory: \" + str(Percent1) )\n",
    "print(\"Grocery-related small businesses in Scripps Ranch make up the following percent of our Directory: \" + str(Percent2) )\n",
    "print(\"Services-related small businesses in Scripps Ranch make up the following percent of our Directory: \" + str(Percent3) )\n",
    "print(\"Eatery small businesses in Scripps Ranch make up the following percent of our Directory: \" + str(Percent4) )\n",
    "\n",
    "\n"
   ]
  },
  {
   "cell_type": "code",
   "execution_count": 10,
   "id": "46132a72-58a0-483d-9935-66542572595c",
   "metadata": {
    "tags": []
   },
   "outputs": [
    {
     "data": {
      "text/plain": [
       "'/Users/mehrisadri/Directory'"
      ]
     },
     "execution_count": 10,
     "metadata": {},
     "output_type": "execute_result"
    }
   ],
   "source": [
    "pwd"
   ]
  },
  {
   "cell_type": "code",
   "execution_count": null,
   "id": "e6c5e63a-bc64-4ca5-b9b6-e2356db5b754",
   "metadata": {},
   "outputs": [],
   "source": []
  }
 ],
 "metadata": {
  "kernelspec": {
   "display_name": "Python 3 (ipykernel)",
   "language": "python",
   "name": "python3"
  },
  "language_info": {
   "codemirror_mode": {
    "name": "ipython",
    "version": 3
   },
   "file_extension": ".py",
   "mimetype": "text/x-python",
   "name": "python",
   "nbconvert_exporter": "python",
   "pygments_lexer": "ipython3",
   "version": "3.11.5"
  }
 },
 "nbformat": 4,
 "nbformat_minor": 5
}
