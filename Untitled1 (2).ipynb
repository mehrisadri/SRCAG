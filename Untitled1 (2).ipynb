{
 "cells": [
  {
   "cell_type": "code",
   "execution_count": 3,
   "id": "23148b46-9e95-41f5-8759-0417ec190588",
   "metadata": {
    "tags": []
   },
   "outputs": [
    {
     "name": "stdout",
     "output_type": "stream",
     "text": [
      "The average growth rate of unemployment across San Diego County between January 1990 and December 2023 is: 0.61%\n"
     ]
    }
   ],
   "source": [
    "import pandas as pd\n",
    "\n",
    "def calculate_growth_rate(data):\n",
    "    growth_rates = []\n",
    "\n",
    "  \n",
    "    for i in range(1, len(data)):\n",
    "        current_value = data[i]\n",
    "        previous_value = data[i - 1]\n",
    "\n",
    "        growth_rate = ((current_value - previous_value) / previous_value) * 100\n",
    "        growth_rates.append(growth_rate)\n",
    "\n",
    "\n",
    "    average_growth_rate = sum(growth_rates) / len(growth_rates) if growth_rates else 0\n",
    "\n",
    "    return average_growth_rate\n",
    "\n",
    "def main():\n",
    "   \n",
    "    csv_file_path = 'CASAND5URN.csv'\n",
    "\n",
    "\n",
    "    df = pd.read_csv(csv_file_path)\n",
    "\n",
    " \n",
    "    column_name = 'CASAND5URN'\n",
    "\n",
    "\n",
    "    column_data = df[column_name].tolist()\n",
    "    avg_growth_rate = calculate_growth_rate(column_data)\n",
    "    print(f\"The average growth rate of unemployment across San Diego County between January 1990 and December 2023 is: {avg_growth_rate:.2f}%\")\n",
    "\n",
    "if __name__ == \"__main__\":\n",
    "    main()"
   ]
  },
  {
   "cell_type": "code",
   "execution_count": null,
   "id": "901c857f-2bc3-4133-82b9-238160b1e075",
   "metadata": {},
   "outputs": [],
   "source": []
  }
 ],
 "metadata": {
  "kernelspec": {
   "display_name": "Python 3 (ipykernel)",
   "language": "python",
   "name": "python3"
  },
  "language_info": {
   "codemirror_mode": {
    "name": "ipython",
    "version": 3
   },
   "file_extension": ".py",
   "mimetype": "text/x-python",
   "name": "python",
   "nbconvert_exporter": "python",
   "pygments_lexer": "ipython3",
   "version": "3.11.5"
  }
 },
 "nbformat": 4,
 "nbformat_minor": 5
}
