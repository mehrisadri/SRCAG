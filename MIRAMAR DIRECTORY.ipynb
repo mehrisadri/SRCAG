{
 "cells": [
  {
   "cell_type": "code",
   "execution_count": 5,
   "id": "2b70ad62-dd8b-4de2-afb1-b2bae71fbb6f",
   "metadata": {
    "tags": []
   },
   "outputs": [
    {
     "name": "stdout",
     "output_type": "stream",
     "text": [
      "         Name of Establishment                         Street Address  \\\n",
      "0                   Royal India  8990 Miramar Rd #200, San Diego, CA    \n",
      "1        Orchid Persian Cuisine         9514 Miramar Rd, San Diego CA   \n",
      "2       SMACK'N Guamanian Grill       9506 Miramar Rd, San Diego, CA    \n",
      "3           Miramar Postal Plus       9528 Miramar Rd, San Diego, CA    \n",
      "4            Qwik Corner Market        9532 Miramar Rd, San Diego, CA   \n",
      "..                          ...                                   ...   \n",
      "110  Duck Foot Brewing Company                        8920 Kenamar Dr   \n",
      "111        World Seasonings LLC         7919 Silverton Ave, suite 407   \n",
      "112                    Vigitron              7810 Trade st, suite 100   \n",
      "113            Air Supply Jeyco                         7544 Trade St   \n",
      "114   Arenson Office Furniture                   8185 Camino Santa Fe   \n",
      "\n",
      "     Zip Code          FUNCTION  \n",
      "0       92126            Eatery  \n",
      "1       92126            Eatery  \n",
      "2       92126            Eatery  \n",
      "3       92126          Services  \n",
      "4       92126           Grocery  \n",
      "..        ...               ...  \n",
      "110     92121            Eatery  \n",
      "111     92121           Grocery  \n",
      "112     92121  Goods & Supplies  \n",
      "113     92121  Goods & Supplies  \n",
      "114     92121  Goods & Supplies  \n",
      "\n",
      "[115 rows x 4 columns]\n"
     ]
    }
   ],
   "source": [
    "import pandas as pd\n",
    "miramardataframe = pd.read_csv('/Users/mehrisadri/Directory/t - Miramar Directory.csv')\n",
    "print(miramardataframe)\n"
   ]
  },
  {
   "cell_type": "code",
   "execution_count": null,
   "id": "46132a72-58a0-483d-9935-66542572595c",
   "metadata": {
    "tags": []
   },
   "outputs": [],
   "source": [
    "pwd"
   ]
  },
  {
   "cell_type": "code",
   "execution_count": null,
   "id": "e6c5e63a-bc64-4ca5-b9b6-e2356db5b754",
   "metadata": {},
   "outputs": [],
   "source": []
  }
 ],
 "metadata": {
  "kernelspec": {
   "display_name": "Python 3 (ipykernel)",
   "language": "python",
   "name": "python3"
  },
  "language_info": {
   "codemirror_mode": {
    "name": "ipython",
    "version": 3
   },
   "file_extension": ".py",
   "mimetype": "text/x-python",
   "name": "python",
   "nbconvert_exporter": "python",
   "pygments_lexer": "ipython3",
   "version": "3.11.5"
  }
 },
 "nbformat": 4,
 "nbformat_minor": 5
}
